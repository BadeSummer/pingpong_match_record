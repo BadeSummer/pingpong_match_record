{
 "cells": [
  {
   "cell_type": "code",
   "execution_count": 2,
   "metadata": {},
   "outputs": [],
   "source": [
    "import pandas as pd\n",
    "import numpy as np\n",
    "import matplotlib.pyplot as plt\n",
    "import time\n",
    "import csv"
   ]
  },
  {
   "cell_type": "code",
   "execution_count": 129,
   "metadata": {},
   "outputs": [],
   "source": [
    "# functions\n",
    "\n",
    "def _read_match(fn=str):\n",
    "    '''\n",
    "    read the match record data.\n",
    "\n",
    "    Parameters\n",
    "    ----------\n",
    "    fn : string\n",
    "        path to the data file.\n",
    "\n",
    "    Returns\n",
    "    -------\n",
    "    data : Dataframe\n",
    "    '''\n",
    "    match_df = pd.read_csv(fn,header=0)\n",
    "    return match_df\n",
    "\n",
    "\n",
    "def _check_game_point(gp=str):\n",
    "    if (gp != gp) :\n",
    "        return\n",
    "        \n",
    "    [A, B] = gp.split(':')\n",
    "    A, B = int(A), int(B)\n",
    "    if np.abs(A-B) < 2 :\n",
    "        raise ValueError('分差小于2，请检查比分')\n",
    "    \n",
    "    if A < 11 and B < 11 :\n",
    "        raise ValueError('未决出胜负，请检查比分')\n",
    "\n",
    "    if (A > 11 or B > 11) and (np.abs(A-B) != 2 ):\n",
    "        raise ValueError('请检查比分')\n",
    "\n",
    "    return\n",
    "\n",
    "\n",
    "def record_match():\n",
    "    global fn\n",
    "    nfn = 'data/new_match.csv'\n",
    "    with open(nfn) as fl:\n",
    "        firstline = fl.readline().rstrip()\n",
    "    \n",
    "    firstline = firstline.split(',')\n",
    "    \n",
    "    new_match_df = pd.read_csv(nfn, header=2)\n",
    "    for count in range(len(new_match_df)):\n",
    "        try:\n",
    "            for i in range(2,9):\n",
    "                _check_game_point(new_match_df.iloc[count, i])\n",
    "        except ValueError:\n",
    "            raise ValueError('请检查第{}项的比分'.format(count))\n",
    "    \n",
    "    new_match_df.insert(0, '赛制', firstline[-1])\n",
    "    new_match_df.insert(0, '赛事', firstline[-2])\n",
    "    new_match_df.insert(0, '时间', firstline[-3])\n",
    "\n",
    "    new_match_df.to_csv(fn, sep=',', mode='a', index=False, header=False)\n",
    "    return print('已将\"{}\"中的数据加入\"{}\"中'.format(nfn, fn))"
   ]
  },
  {
   "cell_type": "code",
   "execution_count": null,
   "metadata": {},
   "outputs": [],
   "source": []
  }
 ],
 "metadata": {
  "kernelspec": {
   "display_name": "base",
   "language": "python",
   "name": "python3"
  },
  "language_info": {
   "codemirror_mode": {
    "name": "ipython",
    "version": 3
   },
   "file_extension": ".py",
   "mimetype": "text/x-python",
   "name": "python",
   "nbconvert_exporter": "python",
   "pygments_lexer": "ipython3",
   "version": "3.9.7"
  },
  "orig_nbformat": 4,
  "vscode": {
   "interpreter": {
    "hash": "5abb9911d4ed9d20d23759ee8832595f18f8dca756e76ad6aec52ed18425e3a5"
   }
  }
 },
 "nbformat": 4,
 "nbformat_minor": 2
}
